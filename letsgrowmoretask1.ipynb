{
  "nbformat": 4,
  "nbformat_minor": 0,
  "metadata": {
    "colab": {
      "name": "letsgrowmore1.ipynb",
      "provenance": [],
      "collapsed_sections": [
        "9WkVqVYrJTcE",
        "dXlMYzMoLp8Q",
        "XLlo_omiWO6D",
        "XDBX-QYMis57"
      ]
    },
    "kernelspec": {
      "name": "python3",
      "display_name": "Python 3"
    },
    "language_info": {
      "name": "python"
    }
  },
  "cells": [
    {
      "cell_type": "markdown",
      "metadata": {
        "id": "Dyr8Uj_kUQ1f"
      },
      "source": [
        "# Iris Flowers Classification ML Project "
      ]
    },
    {
      "cell_type": "markdown",
      "metadata": {
        "id": "FaDujkKeUiTy"
      },
      "source": [
        "Lets Grow More"
      ]
    },
    {
      "cell_type": "markdown",
      "metadata": {
        "id": "71ATNegqUn3V"
      },
      "source": [
        "Presented by Tai Mohammed Moheed"
      ]
    },
    {
      "cell_type": "markdown",
      "metadata": {
        "id": "9WkVqVYrJTcE"
      },
      "source": [
        "#Importing Libraries"
      ]
    },
    {
      "cell_type": "code",
      "metadata": {
        "id": "Bn5dNbhAJINm"
      },
      "source": [
        "import pandas as pd\n",
        "import numpy as np\n",
        "import matplotlib.pyplot as plt\n",
        "from sklearn import datasets\n",
        "import seaborn as sns"
      ],
      "execution_count": null,
      "outputs": []
    },
    {
      "cell_type": "markdown",
      "metadata": {
        "id": "dXlMYzMoLp8Q"
      },
      "source": [
        "# Importing Dataset"
      ]
    },
    {
      "cell_type": "code",
      "metadata": {
        "id": "UNUHdaT6JyKd"
      },
      "source": [
        "iris = datasets.load_iris()"
      ],
      "execution_count": null,
      "outputs": []
    },
    {
      "cell_type": "markdown",
      "metadata": {
        "id": "xqlzwfulLur7"
      },
      "source": [
        "###To Print dataset and check it type"
      ]
    },
    {
      "cell_type": "code",
      "metadata": {
        "colab": {
          "base_uri": "https://localhost:8080/"
        },
        "id": "bniCSgdGKMmO",
        "outputId": "2bca73ad-1fd6-414e-dba2-cf17b44248a9"
      },
      "source": [
        "print(iris)"
      ],
      "execution_count": null,
      "outputs": [
        {
          "output_type": "stream",
          "name": "stdout",
          "text": [
            "{'data': array([[5.1, 3.5, 1.4, 0.2],\n",
            "       [4.9, 3. , 1.4, 0.2],\n",
            "       [4.7, 3.2, 1.3, 0.2],\n",
            "       [4.6, 3.1, 1.5, 0.2],\n",
            "       [5. , 3.6, 1.4, 0.2],\n",
            "       [5.4, 3.9, 1.7, 0.4],\n",
            "       [4.6, 3.4, 1.4, 0.3],\n",
            "       [5. , 3.4, 1.5, 0.2],\n",
            "       [4.4, 2.9, 1.4, 0.2],\n",
            "       [4.9, 3.1, 1.5, 0.1],\n",
            "       [5.4, 3.7, 1.5, 0.2],\n",
            "       [4.8, 3.4, 1.6, 0.2],\n",
            "       [4.8, 3. , 1.4, 0.1],\n",
            "       [4.3, 3. , 1.1, 0.1],\n",
            "       [5.8, 4. , 1.2, 0.2],\n",
            "       [5.7, 4.4, 1.5, 0.4],\n",
            "       [5.4, 3.9, 1.3, 0.4],\n",
            "       [5.1, 3.5, 1.4, 0.3],\n",
            "       [5.7, 3.8, 1.7, 0.3],\n",
            "       [5.1, 3.8, 1.5, 0.3],\n",
            "       [5.4, 3.4, 1.7, 0.2],\n",
            "       [5.1, 3.7, 1.5, 0.4],\n",
            "       [4.6, 3.6, 1. , 0.2],\n",
            "       [5.1, 3.3, 1.7, 0.5],\n",
            "       [4.8, 3.4, 1.9, 0.2],\n",
            "       [5. , 3. , 1.6, 0.2],\n",
            "       [5. , 3.4, 1.6, 0.4],\n",
            "       [5.2, 3.5, 1.5, 0.2],\n",
            "       [5.2, 3.4, 1.4, 0.2],\n",
            "       [4.7, 3.2, 1.6, 0.2],\n",
            "       [4.8, 3.1, 1.6, 0.2],\n",
            "       [5.4, 3.4, 1.5, 0.4],\n",
            "       [5.2, 4.1, 1.5, 0.1],\n",
            "       [5.5, 4.2, 1.4, 0.2],\n",
            "       [4.9, 3.1, 1.5, 0.2],\n",
            "       [5. , 3.2, 1.2, 0.2],\n",
            "       [5.5, 3.5, 1.3, 0.2],\n",
            "       [4.9, 3.6, 1.4, 0.1],\n",
            "       [4.4, 3. , 1.3, 0.2],\n",
            "       [5.1, 3.4, 1.5, 0.2],\n",
            "       [5. , 3.5, 1.3, 0.3],\n",
            "       [4.5, 2.3, 1.3, 0.3],\n",
            "       [4.4, 3.2, 1.3, 0.2],\n",
            "       [5. , 3.5, 1.6, 0.6],\n",
            "       [5.1, 3.8, 1.9, 0.4],\n",
            "       [4.8, 3. , 1.4, 0.3],\n",
            "       [5.1, 3.8, 1.6, 0.2],\n",
            "       [4.6, 3.2, 1.4, 0.2],\n",
            "       [5.3, 3.7, 1.5, 0.2],\n",
            "       [5. , 3.3, 1.4, 0.2],\n",
            "       [7. , 3.2, 4.7, 1.4],\n",
            "       [6.4, 3.2, 4.5, 1.5],\n",
            "       [6.9, 3.1, 4.9, 1.5],\n",
            "       [5.5, 2.3, 4. , 1.3],\n",
            "       [6.5, 2.8, 4.6, 1.5],\n",
            "       [5.7, 2.8, 4.5, 1.3],\n",
            "       [6.3, 3.3, 4.7, 1.6],\n",
            "       [4.9, 2.4, 3.3, 1. ],\n",
            "       [6.6, 2.9, 4.6, 1.3],\n",
            "       [5.2, 2.7, 3.9, 1.4],\n",
            "       [5. , 2. , 3.5, 1. ],\n",
            "       [5.9, 3. , 4.2, 1.5],\n",
            "       [6. , 2.2, 4. , 1. ],\n",
            "       [6.1, 2.9, 4.7, 1.4],\n",
            "       [5.6, 2.9, 3.6, 1.3],\n",
            "       [6.7, 3.1, 4.4, 1.4],\n",
            "       [5.6, 3. , 4.5, 1.5],\n",
            "       [5.8, 2.7, 4.1, 1. ],\n",
            "       [6.2, 2.2, 4.5, 1.5],\n",
            "       [5.6, 2.5, 3.9, 1.1],\n",
            "       [5.9, 3.2, 4.8, 1.8],\n",
            "       [6.1, 2.8, 4. , 1.3],\n",
            "       [6.3, 2.5, 4.9, 1.5],\n",
            "       [6.1, 2.8, 4.7, 1.2],\n",
            "       [6.4, 2.9, 4.3, 1.3],\n",
            "       [6.6, 3. , 4.4, 1.4],\n",
            "       [6.8, 2.8, 4.8, 1.4],\n",
            "       [6.7, 3. , 5. , 1.7],\n",
            "       [6. , 2.9, 4.5, 1.5],\n",
            "       [5.7, 2.6, 3.5, 1. ],\n",
            "       [5.5, 2.4, 3.8, 1.1],\n",
            "       [5.5, 2.4, 3.7, 1. ],\n",
            "       [5.8, 2.7, 3.9, 1.2],\n",
            "       [6. , 2.7, 5.1, 1.6],\n",
            "       [5.4, 3. , 4.5, 1.5],\n",
            "       [6. , 3.4, 4.5, 1.6],\n",
            "       [6.7, 3.1, 4.7, 1.5],\n",
            "       [6.3, 2.3, 4.4, 1.3],\n",
            "       [5.6, 3. , 4.1, 1.3],\n",
            "       [5.5, 2.5, 4. , 1.3],\n",
            "       [5.5, 2.6, 4.4, 1.2],\n",
            "       [6.1, 3. , 4.6, 1.4],\n",
            "       [5.8, 2.6, 4. , 1.2],\n",
            "       [5. , 2.3, 3.3, 1. ],\n",
            "       [5.6, 2.7, 4.2, 1.3],\n",
            "       [5.7, 3. , 4.2, 1.2],\n",
            "       [5.7, 2.9, 4.2, 1.3],\n",
            "       [6.2, 2.9, 4.3, 1.3],\n",
            "       [5.1, 2.5, 3. , 1.1],\n",
            "       [5.7, 2.8, 4.1, 1.3],\n",
            "       [6.3, 3.3, 6. , 2.5],\n",
            "       [5.8, 2.7, 5.1, 1.9],\n",
            "       [7.1, 3. , 5.9, 2.1],\n",
            "       [6.3, 2.9, 5.6, 1.8],\n",
            "       [6.5, 3. , 5.8, 2.2],\n",
            "       [7.6, 3. , 6.6, 2.1],\n",
            "       [4.9, 2.5, 4.5, 1.7],\n",
            "       [7.3, 2.9, 6.3, 1.8],\n",
            "       [6.7, 2.5, 5.8, 1.8],\n",
            "       [7.2, 3.6, 6.1, 2.5],\n",
            "       [6.5, 3.2, 5.1, 2. ],\n",
            "       [6.4, 2.7, 5.3, 1.9],\n",
            "       [6.8, 3. , 5.5, 2.1],\n",
            "       [5.7, 2.5, 5. , 2. ],\n",
            "       [5.8, 2.8, 5.1, 2.4],\n",
            "       [6.4, 3.2, 5.3, 2.3],\n",
            "       [6.5, 3. , 5.5, 1.8],\n",
            "       [7.7, 3.8, 6.7, 2.2],\n",
            "       [7.7, 2.6, 6.9, 2.3],\n",
            "       [6. , 2.2, 5. , 1.5],\n",
            "       [6.9, 3.2, 5.7, 2.3],\n",
            "       [5.6, 2.8, 4.9, 2. ],\n",
            "       [7.7, 2.8, 6.7, 2. ],\n",
            "       [6.3, 2.7, 4.9, 1.8],\n",
            "       [6.7, 3.3, 5.7, 2.1],\n",
            "       [7.2, 3.2, 6. , 1.8],\n",
            "       [6.2, 2.8, 4.8, 1.8],\n",
            "       [6.1, 3. , 4.9, 1.8],\n",
            "       [6.4, 2.8, 5.6, 2.1],\n",
            "       [7.2, 3. , 5.8, 1.6],\n",
            "       [7.4, 2.8, 6.1, 1.9],\n",
            "       [7.9, 3.8, 6.4, 2. ],\n",
            "       [6.4, 2.8, 5.6, 2.2],\n",
            "       [6.3, 2.8, 5.1, 1.5],\n",
            "       [6.1, 2.6, 5.6, 1.4],\n",
            "       [7.7, 3. , 6.1, 2.3],\n",
            "       [6.3, 3.4, 5.6, 2.4],\n",
            "       [6.4, 3.1, 5.5, 1.8],\n",
            "       [6. , 3. , 4.8, 1.8],\n",
            "       [6.9, 3.1, 5.4, 2.1],\n",
            "       [6.7, 3.1, 5.6, 2.4],\n",
            "       [6.9, 3.1, 5.1, 2.3],\n",
            "       [5.8, 2.7, 5.1, 1.9],\n",
            "       [6.8, 3.2, 5.9, 2.3],\n",
            "       [6.7, 3.3, 5.7, 2.5],\n",
            "       [6.7, 3. , 5.2, 2.3],\n",
            "       [6.3, 2.5, 5. , 1.9],\n",
            "       [6.5, 3. , 5.2, 2. ],\n",
            "       [6.2, 3.4, 5.4, 2.3],\n",
            "       [5.9, 3. , 5.1, 1.8]]), 'target': array([0, 0, 0, 0, 0, 0, 0, 0, 0, 0, 0, 0, 0, 0, 0, 0, 0, 0, 0, 0, 0, 0,\n",
            "       0, 0, 0, 0, 0, 0, 0, 0, 0, 0, 0, 0, 0, 0, 0, 0, 0, 0, 0, 0, 0, 0,\n",
            "       0, 0, 0, 0, 0, 0, 1, 1, 1, 1, 1, 1, 1, 1, 1, 1, 1, 1, 1, 1, 1, 1,\n",
            "       1, 1, 1, 1, 1, 1, 1, 1, 1, 1, 1, 1, 1, 1, 1, 1, 1, 1, 1, 1, 1, 1,\n",
            "       1, 1, 1, 1, 1, 1, 1, 1, 1, 1, 1, 1, 2, 2, 2, 2, 2, 2, 2, 2, 2, 2,\n",
            "       2, 2, 2, 2, 2, 2, 2, 2, 2, 2, 2, 2, 2, 2, 2, 2, 2, 2, 2, 2, 2, 2,\n",
            "       2, 2, 2, 2, 2, 2, 2, 2, 2, 2, 2, 2, 2, 2, 2, 2, 2, 2]), 'target_names': array(['setosa', 'versicolor', 'virginica'], dtype='<U10'), 'DESCR': '.. _iris_dataset:\\n\\nIris plants dataset\\n--------------------\\n\\n**Data Set Characteristics:**\\n\\n    :Number of Instances: 150 (50 in each of three classes)\\n    :Number of Attributes: 4 numeric, predictive attributes and the class\\n    :Attribute Information:\\n        - sepal length in cm\\n        - sepal width in cm\\n        - petal length in cm\\n        - petal width in cm\\n        - class:\\n                - Iris-Setosa\\n                - Iris-Versicolour\\n                - Iris-Virginica\\n                \\n    :Summary Statistics:\\n\\n    ============== ==== ==== ======= ===== ====================\\n                    Min  Max   Mean    SD   Class Correlation\\n    ============== ==== ==== ======= ===== ====================\\n    sepal length:   4.3  7.9   5.84   0.83    0.7826\\n    sepal width:    2.0  4.4   3.05   0.43   -0.4194\\n    petal length:   1.0  6.9   3.76   1.76    0.9490  (high!)\\n    petal width:    0.1  2.5   1.20   0.76    0.9565  (high!)\\n    ============== ==== ==== ======= ===== ====================\\n\\n    :Missing Attribute Values: None\\n    :Class Distribution: 33.3% for each of 3 classes.\\n    :Creator: R.A. Fisher\\n    :Donor: Michael Marshall (MARSHALL%PLU@io.arc.nasa.gov)\\n    :Date: July, 1988\\n\\nThe famous Iris database, first used by Sir R.A. Fisher. The dataset is taken\\nfrom Fisher\\'s paper. Note that it\\'s the same as in R, but not as in the UCI\\nMachine Learning Repository, which has two wrong data points.\\n\\nThis is perhaps the best known database to be found in the\\npattern recognition literature.  Fisher\\'s paper is a classic in the field and\\nis referenced frequently to this day.  (See Duda & Hart, for example.)  The\\ndata set contains 3 classes of 50 instances each, where each class refers to a\\ntype of iris plant.  One class is linearly separable from the other 2; the\\nlatter are NOT linearly separable from each other.\\n\\n.. topic:: References\\n\\n   - Fisher, R.A. \"The use of multiple measurements in taxonomic problems\"\\n     Annual Eugenics, 7, Part II, 179-188 (1936); also in \"Contributions to\\n     Mathematical Statistics\" (John Wiley, NY, 1950).\\n   - Duda, R.O., & Hart, P.E. (1973) Pattern Classification and Scene Analysis.\\n     (Q327.D83) John Wiley & Sons.  ISBN 0-471-22361-1.  See page 218.\\n   - Dasarathy, B.V. (1980) \"Nosing Around the Neighborhood: A New System\\n     Structure and Classification Rule for Recognition in Partially Exposed\\n     Environments\".  IEEE Transactions on Pattern Analysis and Machine\\n     Intelligence, Vol. PAMI-2, No. 1, 67-71.\\n   - Gates, G.W. (1972) \"The Reduced Nearest Neighbor Rule\".  IEEE Transactions\\n     on Information Theory, May 1972, 431-433.\\n   - See also: 1988 MLC Proceedings, 54-64.  Cheeseman et al\"s AUTOCLASS II\\n     conceptual clustering system finds 3 classes in the data.\\n   - Many, many more ...', 'feature_names': ['sepal length (cm)', 'sepal width (cm)', 'petal length (cm)', 'petal width (cm)'], 'filename': '/usr/local/lib/python3.7/dist-packages/sklearn/datasets/data/iris.csv'}\n"
          ]
        }
      ]
    },
    {
      "cell_type": "markdown",
      "metadata": {
        "id": "4MEfdml1M-Sf"
      },
      "source": [
        "### Converting the given data into dataframe"
      ]
    },
    {
      "cell_type": "code",
      "metadata": {
        "id": "V4C9ltRpK1Wy"
      },
      "source": [
        "dataset = pd.DataFrame(data= np.c_[iris['data'], iris['target']],\n",
        "                     columns= iris['feature_names'] + ['target'])"
      ],
      "execution_count": null,
      "outputs": []
    },
    {
      "cell_type": "markdown",
      "metadata": {
        "id": "Slo5MqVdNnQx"
      },
      "source": [
        "### Checking the data type of variables\n",
        "\n"
      ]
    },
    {
      "cell_type": "code",
      "metadata": {
        "colab": {
          "base_uri": "https://localhost:8080/"
        },
        "id": "Du_NVorrMfDM",
        "outputId": "d09bd53a-eaca-4010-b96e-94c910badc52"
      },
      "source": [
        "dataset.dtypes"
      ],
      "execution_count": null,
      "outputs": [
        {
          "output_type": "execute_result",
          "data": {
            "text/plain": [
              "sepal length (cm)    float64\n",
              "sepal width (cm)     float64\n",
              "petal length (cm)    float64\n",
              "petal width (cm)     float64\n",
              "target               float64\n",
              "dtype: object"
            ]
          },
          "metadata": {},
          "execution_count": 20
        }
      ]
    },
    {
      "cell_type": "markdown",
      "metadata": {
        "id": "EK2hxSALN637"
      },
      "source": [
        "All the variables are of type float64"
      ]
    },
    {
      "cell_type": "markdown",
      "metadata": {
        "id": "UA3XkO0VNvXs"
      },
      "source": [
        "### Checking the data shape of variables\n"
      ]
    },
    {
      "cell_type": "code",
      "metadata": {
        "colab": {
          "base_uri": "https://localhost:8080/"
        },
        "id": "Dav5-EE8Mn6i",
        "outputId": "ebe24b7f-bd37-4a20-9e9d-e0d54fbd2b43"
      },
      "source": [
        "dataset.shape"
      ],
      "execution_count": null,
      "outputs": [
        {
          "output_type": "execute_result",
          "data": {
            "text/plain": [
              "(150, 5)"
            ]
          },
          "metadata": {},
          "execution_count": 21
        }
      ]
    },
    {
      "cell_type": "markdown",
      "metadata": {
        "id": "NQixJgOxOBiL"
      },
      "source": [
        "The dataset contains 150 rows and 5 columns"
      ]
    },
    {
      "cell_type": "markdown",
      "metadata": {
        "id": "hmqrEgteNyea"
      },
      "source": [
        "### Checking the data dimension of variables\n"
      ]
    },
    {
      "cell_type": "code",
      "metadata": {
        "colab": {
          "base_uri": "https://localhost:8080/"
        },
        "id": "JMaYxSSwMrMY",
        "outputId": "81022726-2dc7-447a-b36b-24c6aeb77d3e"
      },
      "source": [
        "dataset.ndim"
      ],
      "execution_count": null,
      "outputs": [
        {
          "output_type": "execute_result",
          "data": {
            "text/plain": [
              "2"
            ]
          },
          "metadata": {},
          "execution_count": 22
        }
      ]
    },
    {
      "cell_type": "markdown",
      "metadata": {
        "id": "_5EDY_guOGSa"
      },
      "source": [
        "The dataset is a 2 dimensional dataset"
      ]
    },
    {
      "cell_type": "markdown",
      "metadata": {
        "id": "jcNxJ1g0OK4r"
      },
      "source": [
        "### Viewing the dataset."
      ]
    },
    {
      "cell_type": "code",
      "metadata": {
        "colab": {
          "base_uri": "https://localhost:8080/"
        },
        "id": "0Yp_tlIDLYT6",
        "outputId": "acfc7b26-0531-43f8-e118-2c2fca54cbae"
      },
      "source": [
        "dataset.head()"
      ],
      "execution_count": null,
      "outputs": [
        {
          "output_type": "execute_result",
          "data": {
            "text/html": [
              "<div>\n",
              "<style scoped>\n",
              "    .dataframe tbody tr th:only-of-type {\n",
              "        vertical-align: middle;\n",
              "    }\n",
              "\n",
              "    .dataframe tbody tr th {\n",
              "        vertical-align: top;\n",
              "    }\n",
              "\n",
              "    .dataframe thead th {\n",
              "        text-align: right;\n",
              "    }\n",
              "</style>\n",
              "<table border=\"1\" class=\"dataframe\">\n",
              "  <thead>\n",
              "    <tr style=\"text-align: right;\">\n",
              "      <th></th>\n",
              "      <th>sepal length (cm)</th>\n",
              "      <th>sepal width (cm)</th>\n",
              "      <th>petal length (cm)</th>\n",
              "      <th>petal width (cm)</th>\n",
              "      <th>target</th>\n",
              "    </tr>\n",
              "  </thead>\n",
              "  <tbody>\n",
              "    <tr>\n",
              "      <th>0</th>\n",
              "      <td>5.1</td>\n",
              "      <td>3.5</td>\n",
              "      <td>1.4</td>\n",
              "      <td>0.2</td>\n",
              "      <td>0.0</td>\n",
              "    </tr>\n",
              "    <tr>\n",
              "      <th>1</th>\n",
              "      <td>4.9</td>\n",
              "      <td>3.0</td>\n",
              "      <td>1.4</td>\n",
              "      <td>0.2</td>\n",
              "      <td>0.0</td>\n",
              "    </tr>\n",
              "    <tr>\n",
              "      <th>2</th>\n",
              "      <td>4.7</td>\n",
              "      <td>3.2</td>\n",
              "      <td>1.3</td>\n",
              "      <td>0.2</td>\n",
              "      <td>0.0</td>\n",
              "    </tr>\n",
              "    <tr>\n",
              "      <th>3</th>\n",
              "      <td>4.6</td>\n",
              "      <td>3.1</td>\n",
              "      <td>1.5</td>\n",
              "      <td>0.2</td>\n",
              "      <td>0.0</td>\n",
              "    </tr>\n",
              "    <tr>\n",
              "      <th>4</th>\n",
              "      <td>5.0</td>\n",
              "      <td>3.6</td>\n",
              "      <td>1.4</td>\n",
              "      <td>0.2</td>\n",
              "      <td>0.0</td>\n",
              "    </tr>\n",
              "  </tbody>\n",
              "</table>\n",
              "</div>"
            ],
            "text/plain": [
              "   sepal length (cm)  sepal width (cm)  ...  petal width (cm)  target\n",
              "0                5.1               3.5  ...               0.2     0.0\n",
              "1                4.9               3.0  ...               0.2     0.0\n",
              "2                4.7               3.2  ...               0.2     0.0\n",
              "3                4.6               3.1  ...               0.2     0.0\n",
              "4                5.0               3.6  ...               0.2     0.0\n",
              "\n",
              "[5 rows x 5 columns]"
            ]
          },
          "metadata": {},
          "execution_count": 23
        }
      ]
    },
    {
      "cell_type": "markdown",
      "metadata": {
        "id": "9HQUmyMcV6P6"
      },
      "source": [
        "### Missing Value Detection"
      ]
    },
    {
      "cell_type": "code",
      "metadata": {
        "colab": {
          "base_uri": "https://localhost:8080/"
        },
        "id": "-3kPsVB4OffW",
        "outputId": "c1193b42-3574-4328-ded4-80a7bc5342b1"
      },
      "source": [
        "dataset.isnull().sum()"
      ],
      "execution_count": null,
      "outputs": [
        {
          "output_type": "execute_result",
          "data": {
            "text/plain": [
              "sepal length (cm)    0\n",
              "sepal width (cm)     0\n",
              "petal length (cm)    0\n",
              "petal width (cm)     0\n",
              "target               0\n",
              "dtype: int64"
            ]
          },
          "metadata": {},
          "execution_count": 24
        }
      ]
    },
    {
      "cell_type": "markdown",
      "metadata": {
        "id": "iiy2EVjYV2fs"
      },
      "source": [
        "There is no missing value in the dataset"
      ]
    },
    {
      "cell_type": "markdown",
      "metadata": {
        "id": "fA4P6mkuOSoW"
      },
      "source": [
        "### Chechking statistics of the dataset"
      ]
    },
    {
      "cell_type": "code",
      "metadata": {
        "colab": {
          "base_uri": "https://localhost:8080/"
        },
        "id": "bLrfB5AHLhRt",
        "outputId": "7f6eee53-f758-4f22-805e-af330705eda8"
      },
      "source": [
        "dataset.describe(include = \"all\")"
      ],
      "execution_count": null,
      "outputs": [
        {
          "output_type": "execute_result",
          "data": {
            "text/html": [
              "<div>\n",
              "<style scoped>\n",
              "    .dataframe tbody tr th:only-of-type {\n",
              "        vertical-align: middle;\n",
              "    }\n",
              "\n",
              "    .dataframe tbody tr th {\n",
              "        vertical-align: top;\n",
              "    }\n",
              "\n",
              "    .dataframe thead th {\n",
              "        text-align: right;\n",
              "    }\n",
              "</style>\n",
              "<table border=\"1\" class=\"dataframe\">\n",
              "  <thead>\n",
              "    <tr style=\"text-align: right;\">\n",
              "      <th></th>\n",
              "      <th>sepal length (cm)</th>\n",
              "      <th>sepal width (cm)</th>\n",
              "      <th>petal length (cm)</th>\n",
              "      <th>petal width (cm)</th>\n",
              "      <th>target</th>\n",
              "    </tr>\n",
              "  </thead>\n",
              "  <tbody>\n",
              "    <tr>\n",
              "      <th>count</th>\n",
              "      <td>150.000000</td>\n",
              "      <td>150.000000</td>\n",
              "      <td>150.000000</td>\n",
              "      <td>150.000000</td>\n",
              "      <td>150.000000</td>\n",
              "    </tr>\n",
              "    <tr>\n",
              "      <th>mean</th>\n",
              "      <td>5.843333</td>\n",
              "      <td>3.057333</td>\n",
              "      <td>3.758000</td>\n",
              "      <td>1.199333</td>\n",
              "      <td>1.000000</td>\n",
              "    </tr>\n",
              "    <tr>\n",
              "      <th>std</th>\n",
              "      <td>0.828066</td>\n",
              "      <td>0.435866</td>\n",
              "      <td>1.765298</td>\n",
              "      <td>0.762238</td>\n",
              "      <td>0.819232</td>\n",
              "    </tr>\n",
              "    <tr>\n",
              "      <th>min</th>\n",
              "      <td>4.300000</td>\n",
              "      <td>2.000000</td>\n",
              "      <td>1.000000</td>\n",
              "      <td>0.100000</td>\n",
              "      <td>0.000000</td>\n",
              "    </tr>\n",
              "    <tr>\n",
              "      <th>25%</th>\n",
              "      <td>5.100000</td>\n",
              "      <td>2.800000</td>\n",
              "      <td>1.600000</td>\n",
              "      <td>0.300000</td>\n",
              "      <td>0.000000</td>\n",
              "    </tr>\n",
              "    <tr>\n",
              "      <th>50%</th>\n",
              "      <td>5.800000</td>\n",
              "      <td>3.000000</td>\n",
              "      <td>4.350000</td>\n",
              "      <td>1.300000</td>\n",
              "      <td>1.000000</td>\n",
              "    </tr>\n",
              "    <tr>\n",
              "      <th>75%</th>\n",
              "      <td>6.400000</td>\n",
              "      <td>3.300000</td>\n",
              "      <td>5.100000</td>\n",
              "      <td>1.800000</td>\n",
              "      <td>2.000000</td>\n",
              "    </tr>\n",
              "    <tr>\n",
              "      <th>max</th>\n",
              "      <td>7.900000</td>\n",
              "      <td>4.400000</td>\n",
              "      <td>6.900000</td>\n",
              "      <td>2.500000</td>\n",
              "      <td>2.000000</td>\n",
              "    </tr>\n",
              "  </tbody>\n",
              "</table>\n",
              "</div>"
            ],
            "text/plain": [
              "       sepal length (cm)  sepal width (cm)  ...  petal width (cm)      target\n",
              "count         150.000000        150.000000  ...        150.000000  150.000000\n",
              "mean            5.843333          3.057333  ...          1.199333    1.000000\n",
              "std             0.828066          0.435866  ...          0.762238    0.819232\n",
              "min             4.300000          2.000000  ...          0.100000    0.000000\n",
              "25%             5.100000          2.800000  ...          0.300000    0.000000\n",
              "50%             5.800000          3.000000  ...          1.300000    1.000000\n",
              "75%             6.400000          3.300000  ...          1.800000    2.000000\n",
              "max             7.900000          4.400000  ...          2.500000    2.000000\n",
              "\n",
              "[8 rows x 5 columns]"
            ]
          },
          "metadata": {},
          "execution_count": 25
        }
      ]
    },
    {
      "cell_type": "markdown",
      "metadata": {
        "id": "KVBSRUOmOZhM"
      },
      "source": [
        "Here we have total of 150 observation.\n",
        "\n"
      ]
    },
    {
      "cell_type": "markdown",
      "metadata": {
        "id": "XLlo_omiWO6D"
      },
      "source": [
        "# Exploratory Data Analysis"
      ]
    },
    {
      "cell_type": "markdown",
      "metadata": {
        "id": "l4LBNeqFZ3q3"
      },
      "source": [
        "### Bar Plot"
      ]
    },
    {
      "cell_type": "code",
      "metadata": {
        "colab": {
          "base_uri": "https://localhost:8080/"
        },
        "id": "hXLkjeZEWbFv",
        "outputId": "d9d90c6e-4af8-4520-eb0f-a48e05fa0e45"
      },
      "source": [
        "height = (np.mean(dataset['petal length (cm)']), np.mean(dataset['petal width (cm)']),\n",
        "          np.mean(dataset['sepal length (cm)']), np.mean(dataset['sepal width (cm)']))\n",
        "labels = ('Petal Length (cm)', 'Petal Width (cm)', 'Sepal Length (cm)', 'Sepal Width (cm')\n",
        "fig = plt.figure(figsize = (10, 5))\n",
        "plt.bar(labels, height, width = 0.4, color = 'Cyan')\n",
        "plt.ylabel('Average Length in cm')\n",
        "plt.title(\"Average Length of Petal and Sepal in cm\")\n",
        "plt.show"
      ],
      "execution_count": null,
      "outputs": [
        {
          "output_type": "execute_result",
          "data": {
            "text/plain": [
              "<function matplotlib.pyplot.show>"
            ]
          },
          "metadata": {},
          "execution_count": 26
        },
        {
          "output_type": "display_data",
          "data": {
            "image/png": "[encoded data removed]",
            "text/plain": [
              "<Figure size 720x360 with 1 Axes>"
            ]
          },
          "metadata": {}
        }
      ]
    },
    {
      "cell_type": "markdown",
      "metadata": {
        "id": "-xXoz5zoY2UH"
      },
      "source": [
        "We can see from the above graph that average petal width is minimum and average sepal length is maximum"
      ]
    },
    {
      "cell_type": "code",
      "metadata": {
        "colab": {
          "base_uri": "https://localhost:8080/"
        },
        "id": "7FbYRHpcZzvl",
        "outputId": "f698cdc5-6818-4d90-d44f-354f47e12619"
      },
      "source": [
        "height = (np.max(dataset['petal length (cm)']), np.max(dataset['petal width (cm)']),\n",
        "          np.max(dataset['sepal length (cm)']), np.max(dataset['sepal width (cm)']))\n",
        "#height2 = (np.max(dataset)\n",
        "labels = ('Petal Length (cm)', 'Petal Width (cm)', 'Sepal Length (cm)', 'Sepal Width (cm')\n",
        "fig = plt.figure(figsize = (10, 5))\n",
        "plt.bar(labels, height, width = 0.4, color = 'Orange')\n",
        "plt.ylabel('Average Length in cm')\n",
        "plt.title(\"Average Length of Petal and Sepal in cm\")\n",
        "plt.show"
      ],
      "execution_count": null,
      "outputs": [
        {
          "output_type": "execute_result",
          "data": {
            "text/plain": [
              "<function matplotlib.pyplot.show>"
            ]
          },
          "metadata": {},
          "execution_count": 27
        },
        {
          "output_type": "display_data",
          "data": {
            "image/png": "[encoded data removed]",
            "text/plain": [
              "<Figure size 720x360 with 1 Axes>"
            ]
          },
          "metadata": {}
        }
      ]
    },
    {
      "cell_type": "markdown",
      "metadata": {
        "id": "sVgfuuS_bvUa"
      },
      "source": [
        "The maximum value we have is of the Sepal Length followed by Petal Length, Sepal Width and Petal Width"
      ]
    },
    {
      "cell_type": "markdown",
      "metadata": {
        "id": "77piUURIcPyg"
      },
      "source": [
        "### Scatter diagram"
      ]
    },
    {
      "cell_type": "code",
      "metadata": {
        "colab": {
          "base_uri": "https://localhost:8080/"
        },
        "id": "6IxdusBqbu-n",
        "outputId": "4083fcd2-fd5a-449d-b9da-62410e0d4bdd"
      },
      "source": [
        "plt.scatter(dataset['petal length (cm)'], dataset['petal width (cm)'])\n",
        "plt.xlabel('Petal Length in cm')\n",
        "plt.ylabel('Petal width in cm')\n",
        "plt.title('Scatter Plot of Petal Length v/s Petal Width ')\n",
        "plt.show()"
      ],
      "execution_count": null,
      "outputs": [
        {
          "output_type": "display_data",
          "data": {
            "image/png": "[encoded data removed]",
            "text/plain": [
              "<Figure size 432x288 with 1 Axes>"
            ]
          },
          "metadata": {}
        }
      ]
    },
    {
      "cell_type": "markdown",
      "metadata": {
        "id": "dbHaekXrdOQu"
      },
      "source": [
        "The scatter plot of Petal length vs Petal width shows Positive relation as the petal length increases the petal width also increases."
      ]
    },
    {
      "cell_type": "code",
      "metadata": {
        "colab": {
          "base_uri": "https://localhost:8080/"
        },
        "id": "J6_sxDKbcqz3",
        "outputId": "66babd0f-c677-4dd6-8490-5323be53a947"
      },
      "source": [
        "plt.scatter(dataset['sepal length (cm)'], dataset['sepal width (cm)'])\n",
        "plt.xlabel('Sepal Length in cm')\n",
        "plt.ylabel('Sepal width in cm')\n",
        "plt.title('Scatter Plot of Sepal Length v/s Sepal Width ')\n",
        "plt.show()"
      ],
      "execution_count": null,
      "outputs": [
        {
          "output_type": "display_data",
          "data": {
            "image/png": "[encoded data removed]",
            "text/plain": [
              "<Figure size 432x288 with 1 Axes>"
            ]
          },
          "metadata": {}
        }
      ]
    },
    {
      "cell_type": "markdown",
      "metadata": {
        "id": "5LGTwmzVdnqM"
      },
      "source": [
        "The scatter plot of sepal length vs sepal width shows random curve."
      ]
    },
    {
      "cell_type": "markdown",
      "metadata": {
        "id": "qBrLr8oIhNtq"
      },
      "source": [
        "### Correlation Plot"
      ]
    },
    {
      "cell_type": "code",
      "metadata": {
        "colab": {
          "base_uri": "https://localhost:8080/"
        },
        "id": "ISLOILU6d3Tg",
        "outputId": "eec92188-4e0b-4b41-d025-640fe81edd11"
      },
      "source": [
        "#Computing Correlation matrix\n",
        "corr = dataset.corr()\n",
        "\n",
        "# Generate a mask for the upper triangle\n",
        "mask = np.triu(np.ones_like(corr, dtype=bool))\n",
        "\n",
        "# Set up the matplotlib figure\n",
        "f, ax = plt.subplots(figsize=(11, 9))\n",
        "\n",
        "# Generate a custom diverging colormap\n",
        "cmap = sns.diverging_palette(230, 20, as_cmap=True)\n",
        "\n",
        "sns.set_theme(style=\"white\")\n",
        "\n",
        "# Draw the heatmap with the mask and correct aspect ratio\n",
        "sns.heatmap(dataset.corr(),mask=mask, cmap=\"YlGnBu\", annot=True)\n"
      ],
      "execution_count": null,
      "outputs": [
        {
          "output_type": "execute_result",
          "data": {
            "text/plain": [
              "<matplotlib.axes._subplots.AxesSubplot at 0x7f1304f16910>"
            ]
          },
          "metadata": {},
          "execution_count": 30
        },
        {
          "output_type": "display_data",
          "data": {
            "image/png": "[encoded data removed]",
            "text/plain": [
              "<Figure size 792x648 with 2 Axes>"
            ]
          },
          "metadata": {}
        }
      ]
    },
    {
      "cell_type": "markdown",
      "metadata": {
        "id": "j4Im5zA8geCc"
      },
      "source": [
        "We can confirm from the above correlation plot that the petal length ad petal width has the strong positive correlation and the correlation between the sepal length and sepal width has a negative weak correlation."
      ]
    },
    {
      "cell_type": "markdown",
      "metadata": {
        "id": "WmNrN6gliqBj"
      },
      "source": [
        "###"
      ]
    },
    {
      "cell_type": "markdown",
      "metadata": {
        "id": "XDBX-QYMis57"
      },
      "source": [
        "# Logistic Regression"
      ]
    },
    {
      "cell_type": "markdown",
      "metadata": {
        "id": "wKQMbw5fjPx_"
      },
      "source": [
        "### Computing X and y variable"
      ]
    },
    {
      "cell_type": "code",
      "metadata": {
        "id": "vlf-EJegjO9w"
      },
      "source": [
        "X = dataset.iloc[:, :-1].values\n",
        "y = dataset.iloc[:, -1].values"
      ],
      "execution_count": null,
      "outputs": []
    },
    {
      "cell_type": "markdown",
      "metadata": {
        "id": "qEy0ITUwjXma"
      },
      "source": [
        "### Splitting the dataset into the Training set and Test set"
      ]
    },
    {
      "cell_type": "code",
      "metadata": {
        "id": "kR6UmIKIjeaO"
      },
      "source": [
        "from sklearn.model_selection import train_test_split\n",
        "X_train, X_test, y_train, y_test = train_test_split(X, y, test_size = 0.25, random_state = 0)"
      ],
      "execution_count": null,
      "outputs": []
    },
    {
      "cell_type": "code",
      "metadata": {
        "colab": {
          "base_uri": "https://localhost:8080/"
        },
        "id": "9FDUthjkjhKv",
        "outputId": "9c8b460a-173e-4132-daf6-ef4ad39af55d"
      },
      "source": [
        "print(X_train)"
      ],
      "execution_count": null,
      "outputs": [
        {
          "output_type": "stream",
          "name": "stdout",
          "text": [
            "[[5.9 3.  4.2 1.5]\n",
            " [5.8 2.6 4.  1.2]\n",
            " [6.8 3.  5.5 2.1]\n",
            " [4.7 3.2 1.3 0.2]\n",
            " [6.9 3.1 5.1 2.3]\n",
            " [5.  3.5 1.6 0.6]\n",
            " [5.4 3.7 1.5 0.2]\n",
            " [5.  2.  3.5 1. ]\n",
            " [6.5 3.  5.5 1.8]\n",
            " [6.7 3.3 5.7 2.5]\n",
            " [6.  2.2 5.  1.5]\n",
            " [6.7 2.5 5.8 1.8]\n",
            " [5.6 2.5 3.9 1.1]\n",
            " [7.7 3.  6.1 2.3]\n",
            " [6.3 3.3 4.7 1.6]\n",
            " [5.5 2.4 3.8 1.1]\n",
            " [6.3 2.7 4.9 1.8]\n",
            " [6.3 2.8 5.1 1.5]\n",
            " [4.9 2.5 4.5 1.7]\n",
            " [6.3 2.5 5.  1.9]\n",
            " [7.  3.2 4.7 1.4]\n",
            " [6.5 3.  5.2 2. ]\n",
            " [6.  3.4 4.5 1.6]\n",
            " [4.8 3.1 1.6 0.2]\n",
            " [5.8 2.7 5.1 1.9]\n",
            " [5.6 2.7 4.2 1.3]\n",
            " [5.6 2.9 3.6 1.3]\n",
            " [5.5 2.5 4.  1.3]\n",
            " [6.1 3.  4.6 1.4]\n",
            " [7.2 3.2 6.  1.8]\n",
            " [5.3 3.7 1.5 0.2]\n",
            " [4.3 3.  1.1 0.1]\n",
            " [6.4 2.7 5.3 1.9]\n",
            " [5.7 3.  4.2 1.2]\n",
            " [5.4 3.4 1.7 0.2]\n",
            " [5.7 4.4 1.5 0.4]\n",
            " [6.9 3.1 4.9 1.5]\n",
            " [4.6 3.1 1.5 0.2]\n",
            " [5.9 3.  5.1 1.8]\n",
            " [5.1 2.5 3.  1.1]\n",
            " [4.6 3.4 1.4 0.3]\n",
            " [6.2 2.2 4.5 1.5]\n",
            " [7.2 3.6 6.1 2.5]\n",
            " [5.7 2.9 4.2 1.3]\n",
            " [4.8 3.  1.4 0.1]\n",
            " [7.1 3.  5.9 2.1]\n",
            " [6.9 3.2 5.7 2.3]\n",
            " [6.5 3.  5.8 2.2]\n",
            " [6.4 2.8 5.6 2.1]\n",
            " [5.1 3.8 1.6 0.2]\n",
            " [4.8 3.4 1.6 0.2]\n",
            " [6.5 3.2 5.1 2. ]\n",
            " [6.7 3.3 5.7 2.1]\n",
            " [4.5 2.3 1.3 0.3]\n",
            " [6.2 3.4 5.4 2.3]\n",
            " [4.9 3.  1.4 0.2]\n",
            " [5.7 2.5 5.  2. ]\n",
            " [6.9 3.1 5.4 2.1]\n",
            " [4.4 3.2 1.3 0.2]\n",
            " [5.  3.6 1.4 0.2]\n",
            " [7.2 3.  5.8 1.6]\n",
            " [5.1 3.5 1.4 0.3]\n",
            " [4.4 3.  1.3 0.2]\n",
            " [5.4 3.9 1.7 0.4]\n",
            " [5.5 2.3 4.  1.3]\n",
            " [6.8 3.2 5.9 2.3]\n",
            " [7.6 3.  6.6 2.1]\n",
            " [5.1 3.5 1.4 0.2]\n",
            " [4.9 3.1 1.5 0.2]\n",
            " [5.2 3.4 1.4 0.2]\n",
            " [5.7 2.8 4.5 1.3]\n",
            " [6.6 3.  4.4 1.4]\n",
            " [5.  3.2 1.2 0.2]\n",
            " [5.1 3.3 1.7 0.5]\n",
            " [6.4 2.9 4.3 1.3]\n",
            " [5.4 3.4 1.5 0.4]\n",
            " [7.7 2.6 6.9 2.3]\n",
            " [4.9 2.4 3.3 1. ]\n",
            " [7.9 3.8 6.4 2. ]\n",
            " [6.7 3.1 4.4 1.4]\n",
            " [5.2 4.1 1.5 0.1]\n",
            " [6.  3.  4.8 1.8]\n",
            " [5.8 4.  1.2 0.2]\n",
            " [7.7 2.8 6.7 2. ]\n",
            " [5.1 3.8 1.5 0.3]\n",
            " [4.7 3.2 1.6 0.2]\n",
            " [7.4 2.8 6.1 1.9]\n",
            " [5.  3.3 1.4 0.2]\n",
            " [6.3 3.4 5.6 2.4]\n",
            " [5.7 2.8 4.1 1.3]\n",
            " [5.8 2.7 3.9 1.2]\n",
            " [5.7 2.6 3.5 1. ]\n",
            " [6.4 3.2 5.3 2.3]\n",
            " [6.7 3.  5.2 2.3]\n",
            " [6.3 2.5 4.9 1.5]\n",
            " [6.7 3.  5.  1.7]\n",
            " [5.  3.  1.6 0.2]\n",
            " [5.5 2.4 3.7 1. ]\n",
            " [6.7 3.1 5.6 2.4]\n",
            " [5.8 2.7 5.1 1.9]\n",
            " [5.1 3.4 1.5 0.2]\n",
            " [6.6 2.9 4.6 1.3]\n",
            " [5.6 3.  4.1 1.3]\n",
            " [5.9 3.2 4.8 1.8]\n",
            " [6.3 2.3 4.4 1.3]\n",
            " [5.5 3.5 1.3 0.2]\n",
            " [5.1 3.7 1.5 0.4]\n",
            " [4.9 3.1 1.5 0.1]\n",
            " [6.3 2.9 5.6 1.8]\n",
            " [5.8 2.7 4.1 1. ]\n",
            " [7.7 3.8 6.7 2.2]\n",
            " [4.6 3.2 1.4 0.2]]\n"
          ]
        }
      ]
    },
    {
      "cell_type": "code",
      "metadata": {
        "colab": {
          "base_uri": "https://localhost:8080/"
        },
        "id": "J9XAY5gcjoTD",
        "outputId": "4ffaad2e-c7be-4686-a66d-13c01d3f7fca"
      },
      "source": [
        "print(y_train)"
      ],
      "execution_count": null,
      "outputs": [
        {
          "output_type": "stream",
          "name": "stdout",
          "text": [
            "[1. 1. 2. 0. 2. 0. 0. 1. 2. 2. 2. 2. 1. 2. 1. 1. 2. 2. 2. 2. 1. 2. 1. 0.\n",
            " 2. 1. 1. 1. 1. 2. 0. 0. 2. 1. 0. 0. 1. 0. 2. 1. 0. 1. 2. 1. 0. 2. 2. 2.\n",
            " 2. 0. 0. 2. 2. 0. 2. 0. 2. 2. 0. 0. 2. 0. 0. 0. 1. 2. 2. 0. 0. 0. 1. 1.\n",
            " 0. 0. 1. 0. 2. 1. 2. 1. 0. 2. 0. 2. 0. 0. 2. 0. 2. 1. 1. 1. 2. 2. 1. 1.\n",
            " 0. 1. 2. 2. 0. 1. 1. 1. 1. 0. 0. 0. 2. 1. 2. 0.]\n"
          ]
        }
      ]
    },
    {
      "cell_type": "markdown",
      "metadata": {
        "id": "c84Twdq1jtD2"
      },
      "source": [
        "### Feature Scaling "
      ]
    },
    {
      "cell_type": "code",
      "metadata": {
        "id": "LZSTlo6bjwSZ"
      },
      "source": [
        "from sklearn.preprocessing import StandardScaler\n",
        "sc = StandardScaler()\n",
        "X_train = sc.fit_transform(X_train)\n",
        "X_test = sc.transform(X_test)"
      ],
      "execution_count": null,
      "outputs": []
    },
    {
      "cell_type": "code",
      "metadata": {
        "colab": {
          "base_uri": "https://localhost:8080/"
        },
        "id": "ONZwl3BJj0MR",
        "outputId": "6774e9e6-9f18-4c0d-8ca2-c92381f185f0"
      },
      "source": [
        "print(X_train)"
      ],
      "execution_count": null,
      "outputs": [
        {
          "output_type": "stream",
          "name": "stdout",
          "text": [
            "[[ 1.54399532e-02 -1.19254753e-01  2.25126850e-01  3.55797625e-01]\n",
            " [-9.98450310e-02 -1.04039491e+00  1.13559562e-01 -2.98410911e-02]\n",
            " [ 1.05300481e+00 -1.19254753e-01  9.50314227e-01  1.12707506e+00]\n",
            " [-1.36797986e+00  3.41315328e-01 -1.39259884e+00 -1.31530348e+00]\n",
            " [ 1.16828980e+00  1.11030287e-01  7.27179649e-01  1.38416753e+00]\n",
            " [-1.02212490e+00  1.03217045e+00 -1.22524790e+00 -8.01118523e-01]\n",
            " [-5.60984968e-01  1.49274053e+00 -1.28103155e+00 -1.31530348e+00]\n",
            " [-1.02212490e+00 -2.42210516e+00 -1.65358660e-01 -2.86933568e-01]\n",
            " [ 7.07149859e-01 -1.19254753e-01  9.50314227e-01  7.41436341e-01]\n",
            " [ 9.37719827e-01  5.71600368e-01  1.06188152e+00  1.64126001e+00]\n",
            " [ 1.30724937e-01 -1.96153508e+00  6.71396005e-01  3.55797625e-01]\n",
            " [ 9.37719827e-01 -1.27067995e+00  1.11766516e+00  7.41436341e-01]\n",
            " [-3.30414999e-01 -1.27067995e+00  5.77759173e-02 -1.58387330e-01]\n",
            " [ 2.09056967e+00 -1.19254753e-01  1.28501609e+00  1.38416753e+00]\n",
            " [ 4.76579890e-01  5.71600368e-01  5.04045072e-01  4.84343863e-01]\n",
            " [-4.45699984e-01 -1.50096499e+00  1.99227301e-03 -1.58387330e-01]\n",
            " [ 4.76579890e-01 -8.10109874e-01  6.15612361e-01  7.41436341e-01]\n",
            " [ 4.76579890e-01 -5.79824834e-01  7.27179649e-01  3.55797625e-01]\n",
            " [-1.13740989e+00 -1.27067995e+00  3.92477783e-01  6.12890102e-01]\n",
            " [ 4.76579890e-01 -1.27067995e+00  6.71396005e-01  8.69982579e-01]\n",
            " [ 1.28357478e+00  3.41315328e-01  5.04045072e-01  2.27251386e-01]\n",
            " [ 7.07149859e-01 -1.19254753e-01  7.82963294e-01  9.98528818e-01]\n",
            " [ 1.30724937e-01  8.01885408e-01  3.92477783e-01  4.84343863e-01]\n",
            " [-1.25269487e+00  1.11030287e-01 -1.22524790e+00 -1.31530348e+00]\n",
            " [-9.98450310e-02 -8.10109874e-01  7.27179649e-01  8.69982579e-01]\n",
            " [-3.30414999e-01 -8.10109874e-01  2.25126850e-01  9.87051475e-02]\n",
            " [-3.30414999e-01 -3.49539793e-01 -1.09575016e-01  9.87051475e-02]\n",
            " [-4.45699984e-01 -1.27067995e+00  1.13559562e-01  9.87051475e-02]\n",
            " [ 2.46009922e-01 -1.19254753e-01  4.48261428e-01  2.27251386e-01]\n",
            " [ 1.51414475e+00  3.41315328e-01  1.22923245e+00  7.41436341e-01]\n",
            " [-6.76269952e-01  1.49274053e+00 -1.28103155e+00 -1.31530348e+00]\n",
            " [-1.82911979e+00 -1.19254753e-01 -1.50416612e+00 -1.44384972e+00]\n",
            " [ 5.91864874e-01 -8.10109874e-01  8.38746938e-01  8.69982579e-01]\n",
            " [-2.15130015e-01 -1.19254753e-01  2.25126850e-01 -2.98410911e-02]\n",
            " [-5.60984968e-01  8.01885408e-01 -1.16946426e+00 -1.31530348e+00]\n",
            " [-2.15130015e-01  3.10473581e+00 -1.28103155e+00 -1.05821100e+00]\n",
            " [ 1.16828980e+00  1.11030287e-01  6.15612361e-01  3.55797625e-01]\n",
            " [-1.48326484e+00  1.11030287e-01 -1.28103155e+00 -1.31530348e+00]\n",
            " [ 1.54399532e-02 -1.19254753e-01  7.27179649e-01  7.41436341e-01]\n",
            " [-9.06839920e-01 -1.27067995e+00 -4.44276882e-01 -1.58387330e-01]\n",
            " [-1.48326484e+00  8.01885408e-01 -1.33681519e+00 -1.18675724e+00]\n",
            " [ 3.61294906e-01 -1.96153508e+00  3.92477783e-01  3.55797625e-01]\n",
            " [ 1.51414475e+00  1.26245549e+00  1.28501609e+00  1.64126001e+00]\n",
            " [-2.15130015e-01 -3.49539793e-01  2.25126850e-01  9.87051475e-02]\n",
            " [-1.25269487e+00 -1.19254753e-01 -1.33681519e+00 -1.44384972e+00]\n",
            " [ 1.39885976e+00 -1.19254753e-01  1.17344880e+00  1.12707506e+00]\n",
            " [ 1.16828980e+00  3.41315328e-01  1.06188152e+00  1.38416753e+00]\n",
            " [ 7.07149859e-01 -1.19254753e-01  1.11766516e+00  1.25562129e+00]\n",
            " [ 5.91864874e-01 -5.79824834e-01  1.00609787e+00  1.12707506e+00]\n",
            " [-9.06839920e-01  1.72302557e+00 -1.22524790e+00 -1.31530348e+00]\n",
            " [-1.25269487e+00  8.01885408e-01 -1.22524790e+00 -1.31530348e+00]\n",
            " [ 7.07149859e-01  3.41315328e-01  7.27179649e-01  9.98528818e-01]\n",
            " [ 9.37719827e-01  5.71600368e-01  1.06188152e+00  1.12707506e+00]\n",
            " [-1.59854983e+00 -1.73125004e+00 -1.39259884e+00 -1.18675724e+00]\n",
            " [ 3.61294906e-01  8.01885408e-01  8.94530582e-01  1.38416753e+00]\n",
            " [-1.13740989e+00 -1.19254753e-01 -1.33681519e+00 -1.31530348e+00]\n",
            " [-2.15130015e-01 -1.27067995e+00  6.71396005e-01  9.98528818e-01]\n",
            " [ 1.16828980e+00  1.11030287e-01  8.94530582e-01  1.12707506e+00]\n",
            " [-1.71383481e+00  3.41315328e-01 -1.39259884e+00 -1.31530348e+00]\n",
            " [-1.02212490e+00  1.26245549e+00 -1.33681519e+00 -1.31530348e+00]\n",
            " [ 1.51414475e+00 -1.19254753e-01  1.11766516e+00  4.84343863e-01]\n",
            " [-9.06839920e-01  1.03217045e+00 -1.33681519e+00 -1.18675724e+00]\n",
            " [-1.71383481e+00 -1.19254753e-01 -1.39259884e+00 -1.31530348e+00]\n",
            " [-5.60984968e-01  1.95331061e+00 -1.16946426e+00 -1.05821100e+00]\n",
            " [-4.45699984e-01 -1.73125004e+00  1.13559562e-01  9.87051475e-02]\n",
            " [ 1.05300481e+00  3.41315328e-01  1.17344880e+00  1.38416753e+00]\n",
            " [ 1.97528468e+00 -1.19254753e-01  1.56393431e+00  1.12707506e+00]\n",
            " [-9.06839920e-01  1.03217045e+00 -1.33681519e+00 -1.31530348e+00]\n",
            " [-1.13740989e+00  1.11030287e-01 -1.28103155e+00 -1.31530348e+00]\n",
            " [-7.91554936e-01  8.01885408e-01 -1.33681519e+00 -1.31530348e+00]\n",
            " [-2.15130015e-01 -5.79824834e-01  3.92477783e-01  9.87051475e-02]\n",
            " [ 8.22434843e-01 -1.19254753e-01  3.36694139e-01  2.27251386e-01]\n",
            " [-1.02212490e+00  3.41315328e-01 -1.44838248e+00 -1.31530348e+00]\n",
            " [-9.06839920e-01  5.71600368e-01 -1.16946426e+00 -9.29664761e-01]\n",
            " [ 5.91864874e-01 -3.49539793e-01  2.80910495e-01  9.87051475e-02]\n",
            " [-5.60984968e-01  8.01885408e-01 -1.28103155e+00 -1.05821100e+00]\n",
            " [ 2.09056967e+00 -1.04039491e+00  1.73128525e+00  1.38416753e+00]\n",
            " [-1.13740989e+00 -1.50096499e+00 -2.76925949e-01 -2.86933568e-01]\n",
            " [ 2.32113964e+00  1.72302557e+00  1.45236703e+00  9.98528818e-01]\n",
            " [ 9.37719827e-01  1.11030287e-01  3.36694139e-01  2.27251386e-01]\n",
            " [-7.91554936e-01  2.41388069e+00 -1.28103155e+00 -1.44384972e+00]\n",
            " [ 1.30724937e-01 -1.19254753e-01  5.59828716e-01  7.41436341e-01]\n",
            " [-9.98450310e-02  2.18359565e+00 -1.44838248e+00 -1.31530348e+00]\n",
            " [ 2.09056967e+00 -5.79824834e-01  1.61971796e+00  9.98528818e-01]\n",
            " [-9.06839920e-01  1.72302557e+00 -1.28103155e+00 -1.18675724e+00]\n",
            " [-1.36797986e+00  3.41315328e-01 -1.22524790e+00 -1.31530348e+00]\n",
            " [ 1.74471472e+00 -5.79824834e-01  1.28501609e+00  8.69982579e-01]\n",
            " [-1.02212490e+00  5.71600368e-01 -1.33681519e+00 -1.31530348e+00]\n",
            " [ 4.76579890e-01  8.01885408e-01  1.00609787e+00  1.51271377e+00]\n",
            " [-2.15130015e-01 -5.79824834e-01  1.69343206e-01  9.87051475e-02]\n",
            " [-9.98450310e-02 -8.10109874e-01  5.77759173e-02 -2.98410911e-02]\n",
            " [-2.15130015e-01 -1.04039491e+00 -1.65358660e-01 -2.86933568e-01]\n",
            " [ 5.91864874e-01  3.41315328e-01  8.38746938e-01  1.38416753e+00]\n",
            " [ 9.37719827e-01 -1.19254753e-01  7.82963294e-01  1.38416753e+00]\n",
            " [ 4.76579890e-01 -1.27067995e+00  6.15612361e-01  3.55797625e-01]\n",
            " [ 9.37719827e-01 -1.19254753e-01  6.71396005e-01  6.12890102e-01]\n",
            " [-1.02212490e+00 -1.19254753e-01 -1.22524790e+00 -1.31530348e+00]\n",
            " [-4.45699984e-01 -1.50096499e+00 -5.37913713e-02 -2.86933568e-01]\n",
            " [ 9.37719827e-01  1.11030287e-01  1.00609787e+00  1.51271377e+00]\n",
            " [-9.98450310e-02 -8.10109874e-01  7.27179649e-01  8.69982579e-01]\n",
            " [-9.06839920e-01  8.01885408e-01 -1.28103155e+00 -1.31530348e+00]\n",
            " [ 8.22434843e-01 -3.49539793e-01  4.48261428e-01  9.87051475e-02]\n",
            " [-3.30414999e-01 -1.19254753e-01  1.69343206e-01  9.87051475e-02]\n",
            " [ 1.54399532e-02  3.41315328e-01  5.59828716e-01  7.41436341e-01]\n",
            " [ 4.76579890e-01 -1.73125004e+00  3.36694139e-01  9.87051475e-02]\n",
            " [-4.45699984e-01  1.03217045e+00 -1.39259884e+00 -1.31530348e+00]\n",
            " [-9.06839920e-01  1.49274053e+00 -1.28103155e+00 -1.05821100e+00]\n",
            " [-1.13740989e+00  1.11030287e-01 -1.28103155e+00 -1.44384972e+00]\n",
            " [ 4.76579890e-01 -3.49539793e-01  1.00609787e+00  7.41436341e-01]\n",
            " [-9.98450310e-02 -8.10109874e-01  1.69343206e-01 -2.86933568e-01]\n",
            " [ 2.09056967e+00  1.72302557e+00  1.61971796e+00  1.25562129e+00]\n",
            " [-1.48326484e+00  3.41315328e-01 -1.33681519e+00 -1.31530348e+00]]\n"
          ]
        }
      ]
    },
    {
      "cell_type": "markdown",
      "metadata": {
        "id": "sVYm2OYOj78e"
      },
      "source": [
        "### Training the Logistic Regression model on the \n"
      ]
    },
    {
      "cell_type": "code",
      "metadata": {
        "colab": {
          "base_uri": "https://localhost:8080/"
        },
        "id": "_3sxBeXJj9Zo",
        "outputId": "5bca58c0-c2fb-4908-e73e-ae7327bde10f"
      },
      "source": [
        "from sklearn.linear_model import LogisticRegression\n",
        "classifier = LogisticRegression(random_state = 0)\n",
        "classifier.fit(X_train, y_train)"
      ],
      "execution_count": null,
      "outputs": [
        {
          "output_type": "execute_result",
          "data": {
            "text/plain": [
              "LogisticRegression(C=1.0, class_weight=None, dual=False, fit_intercept=True,\n",
              "                   intercept_scaling=1, l1_ratio=None, max_iter=100,\n",
              "                   multi_class='auto', n_jobs=None, penalty='l2',\n",
              "                   random_state=0, solver='lbfgs', tol=0.0001, verbose=0,\n",
              "                   warm_start=False)"
            ]
          },
          "metadata": {},
          "execution_count": 37
        }
      ]
    },
    {
      "cell_type": "markdown",
      "metadata": {
        "id": "oI2JQermkFnv"
      },
      "source": [
        "### Predicting the Test set results"
      ]
    },
    {
      "cell_type": "code",
      "metadata": {
        "colab": {
          "base_uri": "https://localhost:8080/"
        },
        "id": "EpopvZvskFJ3",
        "outputId": "d038fd4b-6ab1-4e3d-8478-040acc82bc73"
      },
      "source": [
        "y_pred = classifier.predict(X_test)\n",
        "print(np.concatenate((y_pred.reshape(len(y_pred),1), y_test.reshape(len(y_test),1)),1))"
      ],
      "execution_count": null,
      "outputs": [
        {
          "output_type": "stream",
          "name": "stdout",
          "text": [
            "[[2. 2.]\n",
            " [1. 1.]\n",
            " [0. 0.]\n",
            " [2. 2.]\n",
            " [0. 0.]\n",
            " [2. 2.]\n",
            " [0. 0.]\n",
            " [1. 1.]\n",
            " [1. 1.]\n",
            " [1. 1.]\n",
            " [2. 2.]\n",
            " [1. 1.]\n",
            " [1. 1.]\n",
            " [1. 1.]\n",
            " [1. 1.]\n",
            " [0. 0.]\n",
            " [1. 1.]\n",
            " [1. 1.]\n",
            " [0. 0.]\n",
            " [0. 0.]\n",
            " [2. 2.]\n",
            " [1. 1.]\n",
            " [0. 0.]\n",
            " [0. 0.]\n",
            " [2. 2.]\n",
            " [0. 0.]\n",
            " [0. 0.]\n",
            " [1. 1.]\n",
            " [1. 1.]\n",
            " [0. 0.]\n",
            " [2. 2.]\n",
            " [1. 1.]\n",
            " [0. 0.]\n",
            " [2. 2.]\n",
            " [2. 2.]\n",
            " [1. 1.]\n",
            " [0. 0.]\n",
            " [2. 1.]]\n"
          ]
        }
      ]
    },
    {
      "cell_type": "markdown",
      "metadata": {
        "id": "3jA9nKOukY4v"
      },
      "source": [
        "### Making the Confusion Matrix"
      ]
    },
    {
      "cell_type": "code",
      "metadata": {
        "colab": {
          "base_uri": "https://localhost:8080/"
        },
        "id": "CZSOMxZ7kaDY",
        "outputId": "6b3a6d76-4a7c-4474-9934-22620305e08b"
      },
      "source": [
        "from sklearn.metrics import confusion_matrix, accuracy_score\n",
        "cm = confusion_matrix(y_test, y_pred)\n",
        "print(cm)\n",
        "accuracy_score(y_test, y_pred)"
      ],
      "execution_count": null,
      "outputs": [
        {
          "output_type": "stream",
          "name": "stdout",
          "text": [
            "[[13  0  0]\n",
            " [ 0 15  1]\n",
            " [ 0  0  9]]\n"
          ]
        },
        {
          "output_type": "execute_result",
          "data": {
            "text/plain": [
              "0.9736842105263158"
            ]
          },
          "metadata": {},
          "execution_count": 39
        }
      ]
    },
    {
      "cell_type": "markdown",
      "metadata": {
        "id": "hTiwU2Zykdtz"
      },
      "source": [
        "Hence, we get 97% accuracy for the classifier."
      ]
    },
    {
      "cell_type": "markdown",
      "metadata": {
        "id": "R_zgZzonSOz2"
      },
      "source": [
        "#Decision Tree Calssifier"
      ]
    },
    {
      "cell_type": "code",
      "metadata": {
        "colab": {
          "base_uri": "https://localhost:8080/"
        },
        "id": "Ox9AngQ_SuQ2",
        "outputId": "2d6a1efd-8c4a-41a5-a645-4d893367392e"
      },
      "source": [
        "from sklearn.tree import DecisionTreeClassifier\n",
        "classifier = DecisionTreeClassifier(criterion = 'entropy', random_state = 0)\n",
        "classifier.fit(X_train, y_train)"
      ],
      "execution_count": null,
      "outputs": [
        {
          "output_type": "execute_result",
          "data": {
            "text/plain": [
              "DecisionTreeClassifier(ccp_alpha=0.0, class_weight=None, criterion='entropy',\n",
              "                       max_depth=None, max_features=None, max_leaf_nodes=None,\n",
              "                       min_impurity_decrease=0.0, min_impurity_split=None,\n",
              "                       min_samples_leaf=1, min_samples_split=2,\n",
              "                       min_weight_fraction_leaf=0.0, presort='deprecated',\n",
              "                       random_state=0, splitter='best')"
            ]
          },
          "metadata": {},
          "execution_count": 40
        }
      ]
    },
    {
      "cell_type": "code",
      "metadata": {
        "colab": {
          "base_uri": "https://localhost:8080/"
        },
        "id": "5lEADIMITHgy",
        "outputId": "6996aa86-01c1-4599-8fa7-814143be0e07"
      },
      "source": [
        "y_pred = classifier.predict(X_test)\n",
        "print(np.concatenate((y_pred.reshape(len(y_pred),1), y_test.reshape(len(y_test),1)),1))"
      ],
      "execution_count": null,
      "outputs": [
        {
          "output_type": "stream",
          "name": "stdout",
          "text": [
            "[[2. 2.]\n",
            " [1. 1.]\n",
            " [0. 0.]\n",
            " [2. 2.]\n",
            " [0. 0.]\n",
            " [2. 2.]\n",
            " [0. 0.]\n",
            " [1. 1.]\n",
            " [1. 1.]\n",
            " [1. 1.]\n",
            " [2. 2.]\n",
            " [1. 1.]\n",
            " [1. 1.]\n",
            " [1. 1.]\n",
            " [1. 1.]\n",
            " [0. 0.]\n",
            " [1. 1.]\n",
            " [1. 1.]\n",
            " [0. 0.]\n",
            " [0. 0.]\n",
            " [2. 2.]\n",
            " [1. 1.]\n",
            " [0. 0.]\n",
            " [0. 0.]\n",
            " [2. 2.]\n",
            " [0. 0.]\n",
            " [0. 0.]\n",
            " [1. 1.]\n",
            " [1. 1.]\n",
            " [0. 0.]\n",
            " [2. 2.]\n",
            " [1. 1.]\n",
            " [0. 0.]\n",
            " [2. 2.]\n",
            " [2. 2.]\n",
            " [1. 1.]\n",
            " [0. 0.]\n",
            " [2. 1.]]\n"
          ]
        }
      ]
    },
    {
      "cell_type": "code",
      "metadata": {
        "colab": {
          "base_uri": "https://localhost:8080/"
        },
        "id": "-DMd0lyWTKq-",
        "outputId": "f962e050-2faf-459a-8e2f-cc35ac46c728"
      },
      "source": [
        "from sklearn.metrics import confusion_matrix, accuracy_score\n",
        "cm = confusion_matrix(y_test, y_pred)\n",
        "print(cm)\n",
        "accuracy_score(y_test, y_pred)"
      ],
      "execution_count": null,
      "outputs": [
        {
          "output_type": "stream",
          "name": "stdout",
          "text": [
            "[[13  0  0]\n",
            " [ 0 15  1]\n",
            " [ 0  0  9]]\n"
          ]
        },
        {
          "output_type": "execute_result",
          "data": {
            "text/plain": [
              "0.9736842105263158"
            ]
          },
          "metadata": {},
          "execution_count": 42
        }
      ]
    },
    {
      "cell_type": "code",
      "metadata": {
        "colab": {
          "base_uri": "https://localhost:8080/",
          "height": 531
        },
        "id": "6BJPim12TWjW",
        "outputId": "5a5e6e6d-ad6d-4184-bcc2-e90dd0a8efc7"
      },
      "source": [
        "# Import necessary libraries for graph viz\n",
        "from sklearn.externals.six import StringIO  \n",
        "from IPython.display import Image  \n",
        "from sklearn.tree import export_graphviz\n",
        "import pydotplus\n",
        "\n",
        "# Visualize the graph\n",
        "dot_data = StringIO()\n",
        "export_graphviz(classifier, out_file=dot_data, feature_names=iris.feature_names,  \n",
        "                filled=True, rounded=True,\n",
        "                special_characters=True)\n",
        "graph = pydotplus.graph_from_dot_data(dot_data.getvalue())  \n",
        "Image(graph.create_png())"
      ],
      "execution_count": null,
      "outputs": [
        {
          "output_type": "stream",
          "name": "stderr",
          "text": [
            "/usr/local/lib/python3.7/dist-packages/sklearn/externals/six.py:31: FutureWarning: The module is deprecated in version 0.21 and will be removed in version 0.23 since we've dropped support for Python 2.7. Please rely on the official version of six (https://pypi.org/project/six/).\n",
            "  \"(https://pypi.org/project/six/).\", FutureWarning)\n"
          ]
        },
        {
          "output_type": "execute_result",
          "data": {
            "image/png": "[encoded data removed]",
            "text/plain": [
              "<IPython.core.display.Image object>"
            ]
          },
          "metadata": {},
          "execution_count": 43
        }
      ]
    },
    {
      "cell_type": "markdown",
      "metadata": {
        "id": "2AAQ78_TV8tE"
      },
      "source": [
        "Thankyou"
      ]
    }
  ]
}